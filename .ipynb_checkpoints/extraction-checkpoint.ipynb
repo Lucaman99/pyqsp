{
 "cells": [
  {
   "cell_type": "markdown",
   "id": "d29d81d1-200d-4b08-ab58-8cc91d63a550",
   "metadata": {},
   "source": [
    "# Demonstrating the extraction protocol"
   ]
  },
  {
   "cell_type": "code",
   "execution_count": 1,
   "id": "1db0a373-3a3f-4da4-b38e-78c500c96793",
   "metadata": {},
   "outputs": [],
   "source": [
    "from pyqsp import *\n",
    "from pyqsp.gadgets import *\n",
    "import numpy as np\n",
    "from matplotlib import pyplot as plt\n",
    "from tqdm.notebook import tqdm"
   ]
  },
  {
   "cell_type": "code",
   "execution_count": 2,
   "id": "144bc3b8-112f-4318-8d68-97b5982456b5",
   "metadata": {},
   "outputs": [],
   "source": [
    "L = 5 # Length of gadget sequence\n",
    "deg = 20 # Degree of extraction\n",
    "\n",
    "# Constructs an atomic gadget\n",
    "Xi_1 = np.array([[np.random.uniform() for _ in range(L)], [np.random.uniform() for _ in range(L)]])\n",
    "#S_1 = [[np.random.choice([0, 1]) for _ in range(L-1)], [np.random.choice([0, 1]) for _ in range(L-1)]]\n",
    "\n",
    "Xi_1 = np.array([[np.pi/3, np.pi/2, 0, np.pi/3, 0, 0, 0, 0, -np.pi/3, -0, -np.pi/2, -np.pi/3]])\n",
    "S_1 = [[0, 1, 0, 1, 1, 1, 1, 1, 0, 1, 0]]\n",
    "\n",
    "G = AtomicGadget(Xi_1, S_1, label=\"G\")"
   ]
  },
  {
   "cell_type": "code",
   "execution_count": 59,
   "id": "aaf2df32-fb36-437e-99f2-fe40f5619c92",
   "metadata": {},
   "outputs": [
    {
     "name": "stdout",
     "output_type": "stream",
     "text": [
      "[-2.22391946e-30  9.07125041e-29  5.25065819e-27  0.00000000e+00\n",
      " -5.16987883e-24 -1.55509955e-22 -2.42198483e-21 -2.32404665e-20\n",
      " -1.34360601e-19 -2.52415818e-19  3.25938278e-18  3.79470760e-17\n",
      "  2.29335865e-16  9.74203086e-16  3.17909761e-15  8.29458030e-15\n",
      "  1.77045878e-14  3.15719673e-14  4.85167462e-14  6.57529586e-14\n",
      "  7.95474797e-14  1.00000000e+00  7.95474797e-14  6.57529586e-14\n",
      "  4.85167462e-14  3.15719673e-14  1.77045878e-14  8.29458030e-15\n",
      "  3.17909761e-15  9.74203086e-16  2.29335865e-16  3.79470760e-17\n",
      "  3.25938278e-18 -2.52415818e-19 -1.34360601e-19 -2.32404665e-20\n",
      " -2.42198483e-21 -1.55509955e-22 -5.16987883e-24  0.00000000e+00\n",
      "  5.25065819e-27  9.07125041e-29 -2.22391946e-30]\n",
      "[0. 0. 0. 0. 0. 0. 0. 0. 0. 0. 0. 0. 0. 0. 0. 0. 0. 0. 0. 0. 0. 1. 0. 0.\n",
      " 0. 0. 0. 0. 0. 0. 0. 0. 0. 0. 0. 0. 0. 0. 0. 0. 0. 0. 0.]\n"
     ]
    }
   ],
   "source": [
    "G_extract = ExtractionGadget(deg, label=\"G_ex\") # Extraction gadget"
   ]
  },
  {
   "cell_type": "code",
   "execution_count": 60,
   "id": "27e72a54-f7b5-4be3-a79c-1819f273b9b1",
   "metadata": {},
   "outputs": [
    {
     "name": "stdout",
     "output_type": "stream",
     "text": [
      "In legs = [('G', 0), ('G', 1)]\n",
      "Out legs = [('G', 0)]\n",
      "---------------\n",
      "In legs = [('G_ex', 0)]\n",
      "Out legs = [('G_ex', 0)]\n"
     ]
    }
   ],
   "source": [
    "# G input and output legs\n",
    "print(\"In legs = {}\".format(G.in_labels))\n",
    "print(\"Out legs = {}\".format(G.out_labels))\n",
    "\n",
    "print(\"---------------\")\n",
    "\n",
    "# G_extract input and output legs\n",
    "print(\"In legs = {}\".format(G_extract.in_labels))\n",
    "print(\"Out legs = {}\".format(G_extract.out_labels))"
   ]
  },
  {
   "cell_type": "code",
   "execution_count": 61,
   "id": "bb428e42-37c3-4a14-8492-eb9eb604a417",
   "metadata": {},
   "outputs": [],
   "source": [
    "# Performs an interlink of the G gadget with the extraction gadget\n",
    "G_prime = G.interlink(G_extract, [\n",
    "    (('G', 0), ('G_ex', 0))\n",
    "])"
   ]
  },
  {
   "cell_type": "code",
   "execution_count": 62,
   "id": "0ccd9fce-5196-4c68-8312-d0aae56dcea1",
   "metadata": {},
   "outputs": [
    {
     "name": "stdout",
     "output_type": "stream",
     "text": [
      "In legs = [('G', 0), ('G', 1)]\n",
      "Out legs = [('G_ex', 0)]\n"
     ]
    }
   ],
   "source": [
    "print(\"In legs = {}\".format(G_prime.in_labels))\n",
    "print(\"Out legs = {}\".format(G_prime.out_labels))"
   ]
  },
  {
   "cell_type": "code",
   "execution_count": 63,
   "id": "ef20e289-8985-4934-b1fb-084e69b3fdec",
   "metadata": {},
   "outputs": [],
   "source": [
    "U = G_prime.get_qsp_unitary(('G_ex', 0)) # Gets the corresponding QSP unitary"
   ]
  },
  {
   "cell_type": "code",
   "execution_count": 64,
   "id": "c4e6ce08-1ea5-453c-bc18-1932906f3ea3",
   "metadata": {},
   "outputs": [],
   "source": [
    "# Demonstrates that the extraction protocol has succeeded\n",
    "P = lambda x, y : U({('G', 0): x, ('G', 1): y})[0][0] # QSP polynomial"
   ]
  },
  {
   "cell_type": "code",
   "execution_count": 65,
   "id": "7c62920a-c108-4475-be74-7e248e3b6d67",
   "metadata": {},
   "outputs": [
    {
     "data": {
      "text/plain": [
       "(-0.00830834530927778-0.0016875851046142146j)"
      ]
     },
     "execution_count": 65,
     "metadata": {},
     "output_type": "execute_result"
    }
   ],
   "source": [
    "P(0.1, 0.2)"
   ]
  },
  {
   "cell_type": "code",
   "execution_count": 66,
   "id": "7a5419a3-8521-494a-a576-1ef357fbac4c",
   "metadata": {},
   "outputs": [
    {
     "data": {
      "application/vnd.jupyter.widget-view+json": {
       "model_id": "c97a2c0506c34d17b808c5b8c3d613b4",
       "version_major": 2,
       "version_minor": 0
      },
      "text/plain": [
       "  0%|          | 0/100 [00:00<?, ?it/s]"
      ]
     },
     "metadata": {},
     "output_type": "display_data"
    },
    {
     "data": {
      "text/plain": [
       "<matplotlib.colorbar.Colorbar at 0x7fdddd1078e0>"
      ]
     },
     "execution_count": 66,
     "metadata": {},
     "output_type": "execute_result"
    },
    {
     "data": {
      "image/png": "[encoded data removed]",
      "text/plain": [
       "<Figure size 480x480 with 2 Axes>"
      ]
     },
     "metadata": {},
     "output_type": "display_data"
    }
   ],
   "source": [
    "X, Y = np.meshgrid(np.linspace(-1, 1, 100), np.linspace(-1, 1, 100))\n",
    "\n",
    "Vals = []\n",
    "for i in tqdm(range(len(Y))):\n",
    "    K = []\n",
    "    for j in range(len(Y)):\n",
    "        K.append(P(X[i][j], Y[i][j]))\n",
    "    Vals.append(K)\n",
    "    \n",
    "plt.matshow(np.real(Vals))\n",
    "plt.colorbar()"
   ]
  },
  {
   "cell_type": "code",
   "execution_count": 221,
   "id": "4b5305fa-bd2f-44f8-b28f-71ff742fd63d",
   "metadata": {
    "collapsed": true,
    "jupyter": {
     "outputs_hidden": true
    },
    "tags": []
   },
   "outputs": [
    {
     "data": {
      "application/vnd.jupyter.widget-view+json": {
       "model_id": "936d40a079374afea3e93a53e5ce78c7",
       "version_major": 2,
       "version_minor": 0
      },
      "text/plain": [
       "  0%|          | 0/100 [00:00<?, ?it/s]"
      ]
     },
     "metadata": {},
     "output_type": "display_data"
    },
    {
     "data": {
      "text/plain": [
       "<matplotlib.colorbar.Colorbar at 0x7f9695ecf0a0>"
      ]
     },
     "execution_count": 221,
     "metadata": {},
     "output_type": "execute_result"
    },
    {
     "data": {
      "image/png": "[encoded data removed]",
      "text/plain": [
       "<Figure size 480x480 with 2 Axes>"
      ]
     },
     "metadata": {},
     "output_type": "display_data"
    }
   ],
   "source": [
    "X, Y = np.meshgrid(np.linspace(-1, 1, 100), np.linspace(-1, 1, 100))\n",
    "\n",
    "Vals = []\n",
    "for i in tqdm(range(len(Y))):\n",
    "    K = []\n",
    "    for j in range(len(Y)):\n",
    "        K.append(P(X[i][j], Y[i][j]))\n",
    "    Vals.append(K)\n",
    "    \n",
    "plt.matshow(np.real(Vals))\n",
    "plt.colorbar()"
   ]
  }
 ],
 "metadata": {
  "kernelspec": {
   "display_name": "Python 3 (ipykernel)",
   "language": "python",
   "name": "python3"
  },
  "language_info": {
   "codemirror_mode": {
    "name": "ipython",
    "version": 3
   },
   "file_extension": ".py",
   "mimetype": "text/x-python",
   "name": "python",
   "nbconvert_exporter": "python",
   "pygments_lexer": "ipython3",
   "version": "3.8.10"
  }
 },
 "nbformat": 4,
 "nbformat_minor": 5
}
