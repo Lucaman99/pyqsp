{
 "cells": [
  {
   "cell_type": "code",
   "execution_count": 6,
   "id": "92dce122-34ca-4222-bb65-6c598f32dbbe",
   "metadata": {},
   "outputs": [],
   "source": [
    "import pyqsp\n",
    "from pyqsp.LPoly import *\n",
    "from pyqsp.gadgets import *\n",
    "import jax\n",
    "import jax.numpy as jnp\n",
    "import numpy as np\n",
    "from tqdm.notebook import tqdm\n",
    "from scipy.interpolate import approximate_taylor_polynomial\n",
    "from matplotlib import pyplot as plt\n",
    "import copy"
   ]
  },
  {
   "cell_type": "code",
   "execution_count": 7,
   "id": "395e21d1-b342-4422-8fe0-c6a87aa32f40",
   "metadata": {},
   "outputs": [],
   "source": [
    "# Defines two atomic gadget\n",
    "\n",
    "Xi_1 = [np.array([0, 1, 2, -2, 1, 0])]\n",
    "S_1 = [[0, 1, 0, 1, 0]]\n",
    "G = AtomicGadget(Xi_1, S_1, label=\"G\")\n",
    "\n",
    "Xi_2 = np.array([[np.pi/3, np.pi/2, 0, -0, -np.pi/2, -np.pi/3]])\n",
    "S_2 = [[0, 1, 0, 1, 0]]\n",
    "G_tilde = AtomicGadget(Xi_2, S_2, label=\"G_tilde\")"
   ]
  },
  {
   "cell_type": "code",
   "execution_count": 13,
   "id": "920fe273-1180-4e7d-a939-3bebda8b51a3",
   "metadata": {},
   "outputs": [],
   "source": [
    "# Performs an interlink of the G gadget with the extraction gadget. Note that 20 is the \n",
    "# degree of the polynomial used in the correction. If it were instead \"None\" no correction\n",
    "# would be applied\n",
    "\n",
    "G_interlink = G.interlink(G_tilde, [\n",
    "    (('G1', 0), ('G_tilde', 0), )\n",
    "])"
   ]
  },
  {
   "cell_type": "code",
   "execution_count": 14,
   "id": "bc4b5f70-5c97-4d4c-82b3-acfe2d26fca6",
   "metadata": {},
   "outputs": [
    {
     "name": "stdout",
     "output_type": "stream",
     "text": [
      "In legs = [('G', 0), ('G', 1), ('G_tilde', 1)]\n",
      "Out legs = [('G_tilde', 0), ('G', 0)]\n"
     ]
    }
   ],
   "source": [
    "print(\"In legs = {}\".format(G_interlink.in_labels))\n",
    "print(\"Out legs = {}\".format(G_interlink.out_labels))"
   ]
  },
  {
   "cell_type": "code",
   "execution_count": 15,
   "id": "d0439273-4849-4151-8d58-cf57829db9f9",
   "metadata": {},
   "outputs": [
    {
     "data": {
      "text/plain": [
       "[<pyqsp.gadgets.QSP_Rotation at 0x7f973579ba90>,\n",
       " <pyqsp.gadgets.QSP_Rotation at 0x7f973579b3d0>,\n",
       " <pyqsp.gadgets.QSP_Signal at 0x7f973579bf10>,\n",
       " <pyqsp.gadgets.QSP_Rotation at 0x7f973579bfd0>,\n",
       " <pyqsp.gadgets.QSP_Signal at 0x7f973579bd00>,\n",
       " <pyqsp.gadgets.QSP_Rotation at 0x7f973579bd30>,\n",
       " <pyqsp.gadgets.QSP_Signal at 0x7f973579b1c0>,\n",
       " <pyqsp.gadgets.QSP_Rotation at 0x7f973579bfa0>,\n",
       " <pyqsp.gadgets.QSP_Signal at 0x7f973579b580>,\n",
       " <pyqsp.gadgets.QSP_Rotation at 0x7f973579f070>,\n",
       " <pyqsp.gadgets.QSP_Signal at 0x7f973579f0d0>,\n",
       " <pyqsp.gadgets.QSP_Rotation at 0x7f973579f130>,\n",
       " <pyqsp.gadgets.QSP_Rotation at 0x7f973579b4f0>,\n",
       " <pyqsp.gadgets.QSP_Signal at 0x7f973579bb20>,\n",
       " <pyqsp.gadgets.QSP_Rotation at 0x7f973579b6d0>,\n",
       " <pyqsp.gadgets.QSP_Rotation at 0x7f973579bf40>,\n",
       " <pyqsp.gadgets.QSP_Signal at 0x7f973579f1c0>,\n",
       " <pyqsp.gadgets.QSP_Rotation at 0x7f973579f280>,\n",
       " <pyqsp.gadgets.QSP_Signal at 0x7f973579f2e0>,\n",
       " <pyqsp.gadgets.QSP_Rotation at 0x7f973579f340>,\n",
       " <pyqsp.gadgets.QSP_Signal at 0x7f973579f3a0>,\n",
       " <pyqsp.gadgets.QSP_Rotation at 0x7f973579f250>,\n",
       " <pyqsp.gadgets.QSP_Signal at 0x7f973579f430>,\n",
       " <pyqsp.gadgets.QSP_Rotation at 0x7f973579f490>,\n",
       " <pyqsp.gadgets.QSP_Signal at 0x7f973579f4f0>,\n",
       " <pyqsp.gadgets.QSP_Rotation at 0x7f973579f550>,\n",
       " <pyqsp.gadgets.QSP_Rotation at 0x7f973579b970>,\n",
       " <pyqsp.gadgets.QSP_Signal at 0x7f973579bcd0>,\n",
       " <pyqsp.gadgets.QSP_Rotation at 0x7f973579bd60>,\n",
       " <pyqsp.gadgets.QSP_Rotation at 0x7f973579f1f0>,\n",
       " <pyqsp.gadgets.QSP_Signal at 0x7f973579f5e0>,\n",
       " <pyqsp.gadgets.QSP_Rotation at 0x7f973579f6a0>,\n",
       " <pyqsp.gadgets.QSP_Signal at 0x7f973579f700>,\n",
       " <pyqsp.gadgets.QSP_Rotation at 0x7f973579f760>,\n",
       " <pyqsp.gadgets.QSP_Signal at 0x7f973579f7c0>,\n",
       " <pyqsp.gadgets.QSP_Rotation at 0x7f973579f670>,\n",
       " <pyqsp.gadgets.QSP_Signal at 0x7f973579f850>,\n",
       " <pyqsp.gadgets.QSP_Rotation at 0x7f973579f8b0>,\n",
       " <pyqsp.gadgets.QSP_Signal at 0x7f973579f910>,\n",
       " <pyqsp.gadgets.QSP_Rotation at 0x7f973579f970>,\n",
       " <pyqsp.gadgets.QSP_Rotation at 0x7f973579be50>]"
      ]
     },
     "execution_count": 15,
     "metadata": {},
     "output_type": "execute_result"
    }
   ],
   "source": [
    "# Gets the sequence of a leg of the gadget interlink\n",
    "G_interlink.get_sequence(('G_tilde', 0))"
   ]
  },
  {
   "cell_type": "code",
   "execution_count": null,
   "id": "7292b1f6-3f74-4d3d-8d1b-0d7e45c68176",
   "metadata": {},
   "outputs": [],
   "source": []
  }
 ],
 "metadata": {
  "kernelspec": {
   "display_name": "Python 3 (ipykernel)",
   "language": "python",
   "name": "python3"
  },
  "language_info": {
   "codemirror_mode": {
    "name": "ipython",
    "version": 3
   },
   "file_extension": ".py",
   "mimetype": "text/x-python",
   "name": "python",
   "nbconvert_exporter": "python",
   "pygments_lexer": "ipython3",
   "version": "3.8.10"
  }
 },
 "nbformat": 4,
 "nbformat_minor": 5
}
