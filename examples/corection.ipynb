{
 "cells": [
  {
   "cell_type": "markdown",
   "id": "b12aaf41-3a8e-4133-a7fa-1b50ecef041d",
   "metadata": {},
   "source": [
    "# Correction protocol"
   ]
  },
  {
   "cell_type": "markdown",
   "id": "1258359b-7489-48f4-a437-b3f1fa266baa",
   "metadata": {},
   "source": [
    "The purpose of this Notebook is to explain the correction procedure and provide all illuminating example."
   ]
  },
  {
   "cell_type": "code",
   "execution_count": null,
   "id": "0fe8b0f4-620b-40e8-98fe-8aa2f29cd6c2",
   "metadata": {},
   "outputs": [],
   "source": [
    "import pyqsp\n",
    "from pyqsp.gadgets import *\n",
    "from tqdm.notebook import tqdm\n",
    "from matplotlib import pyplot as plt"
   ]
  },
  {
   "cell_type": "code",
   "execution_count": null,
   "id": "13a7a2bc-ca4e-400d-9ceb-0fbfd09870ca",
   "metadata": {},
   "outputs": [],
   "source": [
    "Xi = [[1.0, 2.0, -2.0, -1.0]]\n",
    "S = [[0, 1, 0]]\n",
    "\n",
    "# Creates an example atomic gadget\n",
    "G = AtomicGadget(Xi, S, \"G\")\n",
    "\n",
    "Xi = [[2.2, 3.2, -3.2, -2.2]]\n",
    "S = [[0, 1, 0]]\n",
    "\n",
    "# Creates another atomic gadget\n",
    "G_prime = AtomicGadget(Xi, S, \"G_prime\")\n",
    "\n",
    "# Creates and extraction gadget\n",
    "deg = 29\n",
    "G_ext = ExtractionGadget(deg, \"G_ext\")"
   ]
  },
  {
   "cell_type": "code",
   "execution_count": null,
   "id": "4fcc7cbe-df2d-438e-a92f-6293a77c4151",
   "metadata": {},
   "outputs": [],
   "source": [
    "G_prime.get_sequence(('G_prime', 0), correction=4)"
   ]
  },
  {
   "cell_type": "code",
   "execution_count": 4,
   "id": "25a6f1cb-53e4-44e9-946c-cec453d662a5",
   "metadata": {},
   "outputs": [],
   "source": [
    "G_interlink = G.interlink(G_prime, [((\"G\", 0), (\"G_prime\", 0), 4)])\n",
    "#G_ext_int = G.interlink(G_ext, [((\"G\", 0), (\"G_ext\", 0), 4)])"
   ]
  },
  {
   "cell_type": "code",
   "execution_count": 6,
   "id": "43eff9b0-8e93-40ee-bffe-71a511a9497f",
   "metadata": {
    "tags": []
   },
   "outputs": [
    {
     "ename": "AttributeError",
     "evalue": "'list' object has no attribute 'label'",
     "output_type": "error",
     "traceback": [
      "\u001b[0;31m---------------------------------------------------------------------------\u001b[0m",
      "\u001b[0;31mAttributeError\u001b[0m                            Traceback (most recent call last)",
      "Cell \u001b[0;32mIn[6], line 1\u001b[0m\n\u001b[0;32m----> 1\u001b[0m \u001b[43mG_interlink\u001b[49m\u001b[38;5;241;43m.\u001b[39;49m\u001b[43mget_sequence\u001b[49m\u001b[43m(\u001b[49m\u001b[43m(\u001b[49m\u001b[38;5;124;43m\"\u001b[39;49m\u001b[38;5;124;43mG_prime\u001b[39;49m\u001b[38;5;124;43m\"\u001b[39;49m\u001b[43m,\u001b[49m\u001b[43m \u001b[49m\u001b[38;5;241;43m0\u001b[39;49m\u001b[43m)\u001b[49m\u001b[43m)\u001b[49m\n",
      "File \u001b[0;32m~/Library/Python/3.8/lib/python/site-packages/pyqsp-0.1.6-py3.8.egg/pyqsp/gadgets.py:257\u001b[0m, in \u001b[0;36mCompositeAtomicGadget.get_sequence\u001b[0;34m(self, label, correction)\u001b[0m\n\u001b[1;32m    255\u001b[0m \u001b[38;5;28;01mfor\u001b[39;00m j \u001b[38;5;129;01min\u001b[39;00m \u001b[38;5;28mrange\u001b[39m(\u001b[38;5;28mlen\u001b[39m(external_seq)):\n\u001b[1;32m    256\u001b[0m     \u001b[38;5;28;01mif\u001b[39;00m \u001b[38;5;28misinstance\u001b[39m(external_seq[j], QSP_Signal):\n\u001b[0;32m--> 257\u001b[0m         \u001b[38;5;28;01mif\u001b[39;00m \u001b[43mexternal_seq\u001b[49m\u001b[38;5;241;43m.\u001b[39;49m\u001b[43mlabel\u001b[49m[j] \u001b[38;5;129;01min\u001b[39;00m \u001b[38;5;28mself\u001b[39m\u001b[38;5;241m.\u001b[39mC:\n\u001b[1;32m    258\u001b[0m             new_leg_ind \u001b[38;5;241m=\u001b[39m \u001b[38;5;28mself\u001b[39m\u001b[38;5;241m.\u001b[39mC\u001b[38;5;241m.\u001b[39mindex(external_seq[j]\u001b[38;5;241m.\u001b[39mlabel)\n\u001b[1;32m    259\u001b[0m             new_leg, corr \u001b[38;5;241m=\u001b[39m \u001b[38;5;28mself\u001b[39m\u001b[38;5;241m.\u001b[39mB[new_leg_ind], \u001b[38;5;28mself\u001b[39m\u001b[38;5;241m.\u001b[39mcorrection[new_leg_ind]\n",
      "\u001b[0;31mAttributeError\u001b[0m: 'list' object has no attribute 'label'"
     ]
    }
   ],
   "source": [
    "G_interlink.get_sequence((\"G_prime\", 0))"
   ]
  },
  {
   "cell_type": "code",
   "execution_count": 131,
   "id": "5e701f52-00c8-44ad-a939-e9670e591d04",
   "metadata": {},
   "outputs": [],
   "source": [
    "U = G_ext_int.get_qsp_unitary(('G_ext', 0)) # Gets the corresponding QSP unitary"
   ]
  },
  {
   "cell_type": "code",
   "execution_count": 132,
   "id": "f7f5ab53-9ce2-4566-b720-e76100a0410e",
   "metadata": {},
   "outputs": [],
   "source": [
    "# Demonstrates that the extraction protocol has succeeded\n",
    "P = lambda x, y : U({('G', 0): x, ('G', 1): y, (\"G_prime\", 1) : 0.25})[0][0] # QSP polynomial"
   ]
  },
  {
   "cell_type": "code",
   "execution_count": 133,
   "id": "b83dba4c-4ec1-4cb6-8082-c32b2c4df3be",
   "metadata": {},
   "outputs": [
    {
     "data": {
      "application/vnd.jupyter.widget-view+json": {
       "model_id": "f3d1a22e729345afaf76db94474dae3d",
       "version_major": 2,
       "version_minor": 0
      },
      "text/plain": [
       "  0%|          | 0/100 [00:00<?, ?it/s]"
      ]
     },
     "metadata": {},
     "output_type": "display_data"
    },
    {
     "name": "stdout",
     "output_type": "stream",
     "text": [
      "[0.00000000e+00 0.00000000e+00 2.42861287e-17 1.11022302e-16\n",
      " 3.88578059e-16 1.00000000e+00 3.88578059e-16 1.11022302e-16\n",
      " 2.42861287e-17 0.00000000e+00 0.00000000e+00]\n",
      "[0. 0. 0. 0. 0. 1. 0. 0. 0. 0. 0.]\n",
      "[0.00000000e+00 0.00000000e+00 2.42861287e-17 1.11022302e-16\n",
      " 3.88578059e-16 1.00000000e+00 3.88578059e-16 1.11022302e-16\n",
      " 2.42861287e-17 0.00000000e+00 0.00000000e+00]\n",
      "[0. 0. 0. 0. 0. 1. 0. 0. 0. 0. 0.]\n",
      "[0.00000000e+00 0.00000000e+00 2.42861287e-17 1.11022302e-16\n",
      " 3.88578059e-16 1.00000000e+00 3.88578059e-16 1.11022302e-16\n",
      " 2.42861287e-17 0.00000000e+00 0.00000000e+00]\n",
      "[0. 0. 0. 0. 0. 1. 0. 0. 0. 0. 0.]\n",
      "[0.00000000e+00 0.00000000e+00 2.42861287e-17 1.11022302e-16\n",
      " 3.88578059e-16 1.00000000e+00 3.88578059e-16 1.11022302e-16\n",
      " 2.42861287e-17 0.00000000e+00 0.00000000e+00]\n",
      "[0. 0. 0. 0. 0. 1. 0. 0. 0. 0. 0.]\n",
      "[0.00000000e+00 0.00000000e+00 2.42861287e-17 1.11022302e-16\n",
      " 3.88578059e-16 1.00000000e+00 3.88578059e-16 1.11022302e-16\n",
      " 2.42861287e-17 0.00000000e+00 0.00000000e+00]\n",
      "[0. 0. 0. 0. 0. 1. 0. 0. 0. 0. 0.]\n",
      "[0.00000000e+00 0.00000000e+00 2.42861287e-17 1.11022302e-16\n",
      " 3.88578059e-16 1.00000000e+00 3.88578059e-16 1.11022302e-16\n",
      " 2.42861287e-17 0.00000000e+00 0.00000000e+00]\n",
      "[0. 0. 0. 0. 0. 1. 0. 0. 0. 0. 0.]\n",
      "[0.00000000e+00 0.00000000e+00 2.42861287e-17 1.11022302e-16\n",
      " 3.88578059e-16 1.00000000e+00 3.88578059e-16 1.11022302e-16\n",
      " 2.42861287e-17 0.00000000e+00 0.00000000e+00]\n",
      "[0. 0. 0. 0. 0. 1. 0. 0. 0. 0. 0.]\n",
      "[0.00000000e+00 0.00000000e+00 2.42861287e-17 1.11022302e-16\n",
      " 3.88578059e-16 1.00000000e+00 3.88578059e-16 1.11022302e-16\n",
      " 2.42861287e-17 0.00000000e+00 0.00000000e+00]\n",
      "[0. 0. 0. 0. 0. 1. 0. 0. 0. 0. 0.]\n",
      "[0.00000000e+00 0.00000000e+00 2.42861287e-17 1.11022302e-16\n",
      " 3.88578059e-16 1.00000000e+00 3.88578059e-16 1.11022302e-16\n",
      " 2.42861287e-17 0.00000000e+00 0.00000000e+00]\n",
      "[0. 0. 0. 0. 0. 1. 0. 0. 0. 0. 0.]\n",
      "[0.00000000e+00 0.00000000e+00 2.42861287e-17 1.11022302e-16\n",
      " 3.88578059e-16 1.00000000e+00 3.88578059e-16 1.11022302e-16\n",
      " 2.42861287e-17 0.00000000e+00 0.00000000e+00]\n",
      "[0. 0. 0. 0. 0. 1. 0. 0. 0. 0. 0.]\n",
      "[0.00000000e+00 0.00000000e+00 2.42861287e-17 1.11022302e-16\n",
      " 3.88578059e-16 1.00000000e+00 3.88578059e-16 1.11022302e-16\n",
      " 2.42861287e-17 0.00000000e+00 0.00000000e+00]\n",
      "[0. 0. 0. 0. 0. 1. 0. 0. 0. 0. 0.]\n",
      "[0.00000000e+00 0.00000000e+00 2.42861287e-17 1.11022302e-16\n",
      " 3.88578059e-16 1.00000000e+00 3.88578059e-16 1.11022302e-16\n",
      " 2.42861287e-17 0.00000000e+00 0.00000000e+00]\n",
      "[0. 0. 0. 0. 0. 1. 0. 0. 0. 0. 0.]\n",
      "[0.00000000e+00 0.00000000e+00 2.42861287e-17 1.11022302e-16\n",
      " 3.88578059e-16 1.00000000e+00 3.88578059e-16 1.11022302e-16\n",
      " 2.42861287e-17 0.00000000e+00 0.00000000e+00]\n",
      "[0. 0. 0. 0. 0. 1. 0. 0. 0. 0. 0.]\n",
      "[0.00000000e+00 0.00000000e+00 2.42861287e-17 1.11022302e-16\n",
      " 3.88578059e-16 1.00000000e+00 3.88578059e-16 1.11022302e-16\n",
      " 2.42861287e-17 0.00000000e+00 0.00000000e+00]\n",
      "[0. 0. 0. 0. 0. 1. 0. 0. 0. 0. 0.]\n",
      "[0.00000000e+00 0.00000000e+00 2.42861287e-17 1.11022302e-16\n",
      " 3.88578059e-16 1.00000000e+00 3.88578059e-16 1.11022302e-16\n",
      " 2.42861287e-17 0.00000000e+00 0.00000000e+00]\n",
      "[0. 0. 0. 0. 0. 1. 0. 0. 0. 0. 0.]\n",
      "[0.00000000e+00 0.00000000e+00 2.42861287e-17 1.11022302e-16\n",
      " 3.88578059e-16 1.00000000e+00 3.88578059e-16 1.11022302e-16\n",
      " 2.42861287e-17 0.00000000e+00 0.00000000e+00]\n",
      "[0. 0. 0. 0. 0. 1. 0. 0. 0. 0. 0.]\n",
      "[0.00000000e+00 0.00000000e+00 2.42861287e-17 1.11022302e-16\n",
      " 3.88578059e-16 1.00000000e+00 3.88578059e-16 1.11022302e-16\n",
      " 2.42861287e-17 0.00000000e+00 0.00000000e+00]\n",
      "[0. 0. 0. 0. 0. 1. 0. 0. 0. 0. 0.]\n",
      "[0.00000000e+00 0.00000000e+00 2.42861287e-17 1.11022302e-16\n",
      " 3.88578059e-16 1.00000000e+00 3.88578059e-16 1.11022302e-16\n",
      " 2.42861287e-17 0.00000000e+00 0.00000000e+00]\n",
      "[0. 0. 0. 0. 0. 1. 0. 0. 0. 0. 0.]\n",
      "[0.00000000e+00 0.00000000e+00 2.42861287e-17 1.11022302e-16\n",
      " 3.88578059e-16 1.00000000e+00 3.88578059e-16 1.11022302e-16\n",
      " 2.42861287e-17 0.00000000e+00 0.00000000e+00]\n",
      "[0. 0. 0. 0. 0. 1. 0. 0. 0. 0. 0.]\n",
      "[0.00000000e+00 0.00000000e+00 2.42861287e-17 1.11022302e-16\n",
      " 3.88578059e-16 1.00000000e+00 3.88578059e-16 1.11022302e-16\n",
      " 2.42861287e-17 0.00000000e+00 0.00000000e+00]\n",
      "[0. 0. 0. 0. 0. 1. 0. 0. 0. 0. 0.]\n",
      "[0.00000000e+00 0.00000000e+00 2.42861287e-17 1.11022302e-16\n",
      " 3.88578059e-16 1.00000000e+00 3.88578059e-16 1.11022302e-16\n",
      " 2.42861287e-17 0.00000000e+00 0.00000000e+00]\n",
      "[0. 0. 0. 0. 0. 1. 0. 0. 0. 0. 0.]\n",
      "[0.00000000e+00 0.00000000e+00 2.42861287e-17 1.11022302e-16\n",
      " 3.88578059e-16 1.00000000e+00 3.88578059e-16 1.11022302e-16\n",
      " 2.42861287e-17 0.00000000e+00 0.00000000e+00]\n",
      "[0. 0. 0. 0. 0. 1. 0. 0. 0. 0. 0.]\n",
      "[0.00000000e+00 0.00000000e+00 2.42861287e-17 1.11022302e-16\n",
      " 3.88578059e-16 1.00000000e+00 3.88578059e-16 1.11022302e-16\n",
      " 2.42861287e-17 0.00000000e+00 0.00000000e+00]\n",
      "[0. 0. 0. 0. 0. 1. 0. 0. 0. 0. 0.]\n",
      "[0.00000000e+00 0.00000000e+00 2.42861287e-17 1.11022302e-16\n",
      " 3.88578059e-16 1.00000000e+00 3.88578059e-16 1.11022302e-16\n",
      " 2.42861287e-17 0.00000000e+00 0.00000000e+00]\n",
      "[0. 0. 0. 0. 0. 1. 0. 0. 0. 0. 0.]\n",
      "[0.00000000e+00 0.00000000e+00 2.42861287e-17 1.11022302e-16\n",
      " 3.88578059e-16 1.00000000e+00 3.88578059e-16 1.11022302e-16\n",
      " 2.42861287e-17 0.00000000e+00 0.00000000e+00]\n",
      "[0. 0. 0. 0. 0. 1. 0. 0. 0. 0. 0.]\n",
      "[0.00000000e+00 0.00000000e+00 2.42861287e-17 1.11022302e-16\n",
      " 3.88578059e-16 1.00000000e+00 3.88578059e-16 1.11022302e-16\n",
      " 2.42861287e-17 0.00000000e+00 0.00000000e+00]\n",
      "[0. 0. 0. 0. 0. 1. 0. 0. 0. 0. 0.]\n",
      "[0.00000000e+00 0.00000000e+00 2.42861287e-17 1.11022302e-16\n",
      " 3.88578059e-16 1.00000000e+00 3.88578059e-16 1.11022302e-16\n",
      " 2.42861287e-17 0.00000000e+00 0.00000000e+00]\n",
      "[0. 0. 0. 0. 0. 1. 0. 0. 0. 0. 0.]\n",
      "[0.00000000e+00 0.00000000e+00 2.42861287e-17 1.11022302e-16\n",
      " 3.88578059e-16 1.00000000e+00 3.88578059e-16 1.11022302e-16\n",
      " 2.42861287e-17 0.00000000e+00 0.00000000e+00]\n",
      "[0. 0. 0. 0. 0. 1. 0. 0. 0. 0. 0.]\n",
      "[0.00000000e+00 0.00000000e+00 2.42861287e-17 1.11022302e-16\n",
      " 3.88578059e-16 1.00000000e+00 3.88578059e-16 1.11022302e-16\n",
      " 2.42861287e-17 0.00000000e+00 0.00000000e+00]\n",
      "[0. 0. 0. 0. 0. 1. 0. 0. 0. 0. 0.]\n"
     ]
    },
    {
     "ename": "KeyError",
     "evalue": "('CSWAP', 1)",
     "output_type": "error",
     "traceback": [
      "\u001b[0;31m---------------------------------------------------------------------------\u001b[0m",
      "\u001b[0;31mKeyError\u001b[0m                                  Traceback (most recent call last)",
      "Cell \u001b[0;32mIn[133], line 7\u001b[0m\n\u001b[1;32m      5\u001b[0m     K \u001b[38;5;241m=\u001b[39m []\n\u001b[1;32m      6\u001b[0m     \u001b[38;5;28;01mfor\u001b[39;00m j \u001b[38;5;129;01min\u001b[39;00m \u001b[38;5;28mrange\u001b[39m(\u001b[38;5;28mlen\u001b[39m(Y)):\n\u001b[0;32m----> 7\u001b[0m         K\u001b[38;5;241m.\u001b[39mappend(\u001b[43mP\u001b[49m\u001b[43m(\u001b[49m\u001b[43mX\u001b[49m\u001b[43m[\u001b[49m\u001b[43mi\u001b[49m\u001b[43m]\u001b[49m\u001b[43m[\u001b[49m\u001b[43mj\u001b[49m\u001b[43m]\u001b[49m\u001b[43m,\u001b[49m\u001b[43m \u001b[49m\u001b[43mY\u001b[49m\u001b[43m[\u001b[49m\u001b[43mi\u001b[49m\u001b[43m]\u001b[49m\u001b[43m[\u001b[49m\u001b[43mj\u001b[49m\u001b[43m]\u001b[49m\u001b[43m)\u001b[49m)\n\u001b[1;32m      8\u001b[0m     Vals\u001b[38;5;241m.\u001b[39mappend(K)\n\u001b[1;32m     10\u001b[0m plt\u001b[38;5;241m.\u001b[39mmatshow(np\u001b[38;5;241m.\u001b[39mreal(Vals))\n",
      "Cell \u001b[0;32mIn[132], line 2\u001b[0m, in \u001b[0;36m<lambda>\u001b[0;34m(x, y)\u001b[0m\n\u001b[1;32m      1\u001b[0m \u001b[38;5;66;03m# Demonstrates that the extraction protocol has succeeded\u001b[39;00m\n\u001b[0;32m----> 2\u001b[0m P \u001b[38;5;241m=\u001b[39m \u001b[38;5;28;01mlambda\u001b[39;00m x, y : \u001b[43mU\u001b[49m\u001b[43m(\u001b[49m\u001b[43m{\u001b[49m\u001b[43m(\u001b[49m\u001b[38;5;124;43m'\u001b[39;49m\u001b[38;5;124;43mG\u001b[39;49m\u001b[38;5;124;43m'\u001b[39;49m\u001b[43m,\u001b[49m\u001b[43m \u001b[49m\u001b[38;5;241;43m0\u001b[39;49m\u001b[43m)\u001b[49m\u001b[43m:\u001b[49m\u001b[43m \u001b[49m\u001b[43mx\u001b[49m\u001b[43m,\u001b[49m\u001b[43m \u001b[49m\u001b[43m(\u001b[49m\u001b[38;5;124;43m'\u001b[39;49m\u001b[38;5;124;43mG\u001b[39;49m\u001b[38;5;124;43m'\u001b[39;49m\u001b[43m,\u001b[49m\u001b[43m \u001b[49m\u001b[38;5;241;43m1\u001b[39;49m\u001b[43m)\u001b[49m\u001b[43m:\u001b[49m\u001b[43m \u001b[49m\u001b[43my\u001b[49m\u001b[43m,\u001b[49m\u001b[43m \u001b[49m\u001b[43m(\u001b[49m\u001b[38;5;124;43m\"\u001b[39;49m\u001b[38;5;124;43mG_prime\u001b[39;49m\u001b[38;5;124;43m\"\u001b[39;49m\u001b[43m,\u001b[49m\u001b[43m \u001b[49m\u001b[38;5;241;43m1\u001b[39;49m\u001b[43m)\u001b[49m\u001b[43m \u001b[49m\u001b[43m:\u001b[49m\u001b[43m \u001b[49m\u001b[38;5;241;43m0.25\u001b[39;49m\u001b[43m}\u001b[49m\u001b[43m)\u001b[49m[\u001b[38;5;241m0\u001b[39m][\u001b[38;5;241m0\u001b[39m]\n",
      "File \u001b[0;32m~/Library/Python/3.8/lib/python/site-packages/pyqsp-0.1.6-py3.8.egg/pyqsp/gadgets.py:178\u001b[0m, in \u001b[0;36mCompositeAtomicGadget.get_qsp_unitary.<locals>.<lambda>\u001b[0;34m(vars)\u001b[0m\n\u001b[1;32m    170\u001b[0m \u001b[38;5;124;03m\"\"\"\u001b[39;00m\n\u001b[1;32m    171\u001b[0m \u001b[38;5;124;03mGenerates and returns the polynomial corresponding to a particular output leg\u001b[39;00m\n\u001b[1;32m    172\u001b[0m \u001b[38;5;124;03mof an atomic gadget.\u001b[39;00m\n\u001b[0;32m   (...)\u001b[0m\n\u001b[1;32m    175\u001b[0m \u001b[38;5;124;03m    vars (dict): A dictionary assigning values to input legs\u001b[39;00m\n\u001b[1;32m    176\u001b[0m \u001b[38;5;124;03m\"\"\"\u001b[39;00m\n\u001b[1;32m    177\u001b[0m input_unitaries \u001b[38;5;241m=\u001b[39m \u001b[38;5;28;01mlambda\u001b[39;00m \u001b[38;5;28mvars\u001b[39m : {l : W(\u001b[38;5;28mvars\u001b[39m[l]) \u001b[38;5;28;01mfor\u001b[39;00m l \u001b[38;5;129;01min\u001b[39;00m \u001b[38;5;28mself\u001b[39m\u001b[38;5;241m.\u001b[39min_labels}\n\u001b[0;32m--> 178\u001b[0m \u001b[38;5;28;01mreturn\u001b[39;00m \u001b[38;5;28;01mlambda\u001b[39;00m \u001b[38;5;28mvars\u001b[39m : \u001b[38;5;28;43mself\u001b[39;49m\u001b[38;5;241;43m.\u001b[39;49m\u001b[43mget_unitary\u001b[49m\u001b[43m(\u001b[49m\u001b[43mlabel\u001b[49m\u001b[43m)\u001b[49m\u001b[43m(\u001b[49m\u001b[43minput_unitaries\u001b[49m\u001b[43m(\u001b[49m\u001b[38;5;28;43mvars\u001b[39;49m\u001b[43m)\u001b[49m\u001b[43m)\u001b[49m\n",
      "File \u001b[0;32m~/Library/Python/3.8/lib/python/site-packages/pyqsp-0.1.6-py3.8.egg/pyqsp/gadgets.py:167\u001b[0m, in \u001b[0;36mCompositeAtomicGadget.get_unitary.<locals>.<lambda>\u001b[0;34m(U)\u001b[0m\n\u001b[1;32m    162\u001b[0m \u001b[38;5;124;03m\"\"\"\u001b[39;00m\n\u001b[1;32m    163\u001b[0m \u001b[38;5;124;03mReturns a function which takes input unitaries, and outputs unitaries corresponding to the \u001b[39;00m\n\u001b[1;32m    164\u001b[0m \u001b[38;5;124;03mgadget\u001b[39;00m\n\u001b[1;32m    165\u001b[0m \u001b[38;5;124;03m\"\"\"\u001b[39;00m\n\u001b[1;32m    166\u001b[0m Xi, S \u001b[38;5;241m=\u001b[39m \u001b[38;5;28mself\u001b[39m\u001b[38;5;241m.\u001b[39mget_sequence(label)\n\u001b[0;32m--> 167\u001b[0m \u001b[38;5;28;01mreturn\u001b[39;00m \u001b[38;5;28;01mlambda\u001b[39;00m U : \u001b[43mcompute_mqsp_unitary\u001b[49m\u001b[43m(\u001b[49m\u001b[43mU\u001b[49m\u001b[43m,\u001b[49m\u001b[43m \u001b[49m\u001b[43mXi\u001b[49m\u001b[43m,\u001b[49m\u001b[43m \u001b[49m\u001b[43mS\u001b[49m\u001b[43m)\u001b[49m\n",
      "File \u001b[0;32m~/Library/Python/3.8/lib/python/site-packages/pyqsp-0.1.6-py3.8.egg/pyqsp/gadgets.py:324\u001b[0m, in \u001b[0;36mcompute_mqsp_unitary\u001b[0;34m(U, Phi, s)\u001b[0m\n\u001b[1;32m    322\u001b[0m output_U \u001b[38;5;241m=\u001b[39m Rz(Phi[\u001b[38;5;241m0\u001b[39m])\n\u001b[1;32m    323\u001b[0m \u001b[38;5;28;01mfor\u001b[39;00m i \u001b[38;5;129;01min\u001b[39;00m \u001b[38;5;28mrange\u001b[39m(\u001b[38;5;241m0\u001b[39m, \u001b[38;5;28mlen\u001b[39m(s)):\n\u001b[0;32m--> 324\u001b[0m     output_U \u001b[38;5;241m=\u001b[39m output_U \u001b[38;5;241m@\u001b[39m \u001b[43mU\u001b[49m\u001b[43m[\u001b[49m\u001b[43ms\u001b[49m\u001b[43m[\u001b[49m\u001b[43mi\u001b[49m\u001b[43m]\u001b[49m\u001b[43m]\u001b[49m \u001b[38;5;241m@\u001b[39m Rz(Phi[i \u001b[38;5;241m+\u001b[39m \u001b[38;5;241m1\u001b[39m])\n\u001b[1;32m    325\u001b[0m \u001b[38;5;28;01mreturn\u001b[39;00m output_U\n",
      "\u001b[0;31mKeyError\u001b[0m: ('CSWAP', 1)"
     ]
    }
   ],
   "source": [
    "X, Y = np.meshgrid(np.linspace(-1, 1, 100), np.linspace(-1, 1, 100))\n",
    "\n",
    "Vals = []\n",
    "for i in tqdm(range(len(Y))):\n",
    "    K = []\n",
    "    for j in range(len(Y)):\n",
    "        K.append(P(X[i][j], Y[i][j]))\n",
    "    Vals.append(K)\n",
    "    \n",
    "plt.matshow(np.real(Vals))\n",
    "plt.colorbar()"
   ]
  },
  {
   "cell_type": "code",
   "execution_count": null,
   "id": "8484a6b2-bf01-4337-93bb-2fe50fc220b9",
   "metadata": {},
   "outputs": [],
   "source": []
  }
 ],
 "metadata": {
  "kernelspec": {
   "display_name": "Python 3 (ipykernel)",
   "language": "python",
   "name": "python3"
  },
  "language_info": {
   "codemirror_mode": {
    "name": "ipython",
    "version": 3
   },
   "file_extension": ".py",
   "mimetype": "text/x-python",
   "name": "python",
   "nbconvert_exporter": "python",
   "pygments_lexer": "ipython3",
   "version": "3.8.10"
  }
 },
 "nbformat": 4,
 "nbformat_minor": 5
}
