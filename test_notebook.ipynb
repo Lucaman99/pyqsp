{
 "cells": [
  {
   "cell_type": "code",
   "execution_count": 1,
   "id": "92dce122-34ca-4222-bb65-6c598f32dbbe",
   "metadata": {},
   "outputs": [],
   "source": [
    "import pyqsp\n",
    "from pyqsp.LPoly import *\n",
    "from pyqsp.gadgets import *\n",
    "import jax\n",
    "import jax.numpy as jnp\n",
    "import numpy as np\n",
    "from tqdm.notebook import tqdm\n",
    "from scipy.interpolate import approximate_taylor_polynomial\n",
    "from matplotlib import pyplot as plt\n",
    "import copy\n",
    "\n",
    "np.set_printoptions(linewidth=100000)"
   ]
  },
  {
   "cell_type": "code",
   "execution_count": 2,
   "id": "ea44fec9-f17a-4c18-80d2-5409df4e9e38",
   "metadata": {},
   "outputs": [
    {
     "data": {
      "text/plain": [
       "tensor([1.+0.j, 0.+0.j, 0.+0.j, 0.+0.j], requires_grad=True)"
      ]
     },
     "execution_count": 2,
     "metadata": {},
     "output_type": "execute_result"
    }
   ],
   "source": [
    "import pennylane as qml\n",
    "\n",
    "dev = qml.device('default.qubit', wires=[(\"a\", 0), 2])\n",
    "@qml.qnode(dev)\n",
    "def fn():\n",
    "    qml.ControlledQubitUnitary(np.array([[0, 1], [1, 0]]), control_wires=[('a', 0)], wires=[2])\n",
    "    return qml.state()\n",
    "\n",
    "fn()"
   ]
  },
  {
   "cell_type": "code",
   "execution_count": 3,
   "id": "395e21d1-b342-4422-8fe0-c6a87aa32f40",
   "metadata": {},
   "outputs": [],
   "source": [
    "# Defines two atomic gadget\n",
    "\n",
    "Xi_1 = [np.array([0, 1, 2, -2, 1, 0])]\n",
    "S_1 = [[0, 1, 1, 1, 0]]\n",
    "G = AtomicGadget(Xi_1, S_1, label=\"G\")\n",
    "\n",
    "Xi_2 = np.array([[np.pi/3, np.pi/2, 0, -0, -np.pi/2, -np.pi/3]])\n",
    "S_2 = [[0, 1, 0, 1, 0]]\n",
    "G_tilde = AtomicGadget(Xi_2, S_2, label=\"G_tilde\")"
   ]
  },
  {
   "cell_type": "code",
   "execution_count": 4,
   "id": "920fe273-1180-4e7d-a939-3bebda8b51a3",
   "metadata": {},
   "outputs": [],
   "source": [
    "# Performs an interlink of the G gadget with the extraction gadget. Note that deg is the \n",
    "# degree of the polynomial used in the correction. If it were instead \"None\" no correction\n",
    "# would be applied\n",
    "deg = 4\n",
    "\n",
    "G_interlink = G.interlink(G_tilde, [\n",
    "    (('G1', 0), ('G_tilde', 0), deg)\n",
    "])"
   ]
  },
  {
   "cell_type": "code",
   "execution_count": 5,
   "id": "bc4b5f70-5c97-4d4c-82b3-acfe2d26fca6",
   "metadata": {},
   "outputs": [
    {
     "name": "stdout",
     "output_type": "stream",
     "text": [
      "In legs = [('G', 0), ('G', 1), ('G_tilde', 1)]\n",
      "Out legs = [('G_tilde', 0), ('G', 0)]\n"
     ]
    }
   ],
   "source": [
    "print(\"In legs = {}\".format(G_interlink.in_labels))\n",
    "print(\"Out legs = {}\".format(G_interlink.out_labels))"
   ]
  },
  {
   "cell_type": "code",
   "execution_count": 6,
   "id": "d0439273-4849-4151-8d58-cf57829db9f9",
   "metadata": {},
   "outputs": [
    {
     "name": "stdout",
     "output_type": "stream",
     "text": [
      "b\n",
      "b\n",
      "b\n",
      "a\n",
      "b\n",
      "a\n",
      "b\n",
      "a\n",
      "b\n",
      "a\n",
      "b\n",
      "a\n",
      "b\n",
      "b\n",
      "b\n",
      "a\n",
      "b\n",
      "a\n",
      "b\n",
      "a\n",
      "b\n",
      "a\n",
      "b\n",
      "a\n",
      "b\n",
      "b\n",
      "b\n",
      "a\n",
      "b\n",
      "a\n",
      "b\n",
      "a\n",
      "b\n",
      "a\n",
      "b\n",
      "a\n",
      "b\n",
      "b\n",
      "b\n",
      "a\n",
      "b\n",
      "a\n",
      "b\n",
      "a\n",
      "b\n",
      "a\n",
      "b\n",
      "a\n",
      "b\n",
      "b\n",
      "b\n",
      "a\n",
      "b\n",
      "a\n",
      "b\n",
      "a\n",
      "b\n",
      "a\n",
      "b\n",
      "a\n",
      "b\n",
      "b\n"
     ]
    },
    {
     "data": {
      "text/plain": [
       "array([[ 1.        +0.j        ,  0.        +0.j        ,  0.        +0.j        ,  0.        +0.j        ],\n",
       "       [ 0.        +0.j        , -0.51271596-0.56059325j,  0.        +0.j        ,  0.54399852+0.35626277j],\n",
       "       [ 0.        +0.j        ,  0.        +0.j        ,  1.        +0.j        ,  0.        +0.j        ],\n",
       "       [ 0.        +0.j        , -0.54399852+0.35626277j,  0.        +0.j        , -0.51271596+0.56059325j]])"
      ]
     },
     "execution_count": 6,
     "metadata": {},
     "output_type": "execute_result"
    }
   ],
   "source": [
    "# Gets the sequence of a leg of the gadget interlink\n",
    "G_interlink.get_sequence(('G_tilde', 0))[2].matrix({('G', 0):Rx(0.2), ('G', 1):Rx(0.3), ('G_tilde', 1):Rx(0.4)}, [0])"
   ]
  },
  {
   "cell_type": "code",
   "execution_count": 6,
   "id": "7292b1f6-3f74-4d3d-8d1b-0d7e45c68176",
   "metadata": {},
   "outputs": [],
   "source": [
    "# Performs tests of the extraction and sqrt gadgets\n",
    "G_extraction = ExtractionGadget(29, 'G_ext')\n",
    "G_sqrt = SqrtGadget(40, 0.05, 'G_sqrt')"
   ]
  },
  {
   "cell_type": "code",
   "execution_count": 7,
   "id": "cdb11387-6fab-4006-8f33-7273fa93677b",
   "metadata": {},
   "outputs": [
    {
     "name": "stderr",
     "output_type": "stream",
     "text": [
      "/Library/Frameworks/Python.framework/Versions/3.8/lib/python3.8/site-packages/matplotlib/cbook/__init__.py:1369: ComplexWarning: Casting complex values to real discards the imaginary part\n",
      "  return np.asarray(x, float)\n"
     ]
    },
    {
     "data": {
      "text/plain": [
       "[<matplotlib.lines.Line2D at 0x7fbf6f063e80>]"
      ]
     },
     "execution_count": 7,
     "metadata": {},
     "output_type": "execute_result"
    },
    {
     "data": {
      "image/png": "[encoded data removed]",
      "text/plain": [
       "<Figure size 640x480 with 1 Axes>"
      ]
     },
     "metadata": {},
     "output_type": "display_data"
    }
   ],
   "source": [
    "# Plots the response function of the extraction gadget\n",
    "X, Y = G_extraction.get_response()\n",
    "plt.plot(X, Y)"
   ]
  },
  {
   "cell_type": "code",
   "execution_count": 8,
   "id": "81f0a6f5-5c17-4535-8053-162d144b85b8",
   "metadata": {},
   "outputs": [
    {
     "data": {
      "text/plain": [
       "[<matplotlib.lines.Line2D at 0x7fbf6f37f6a0>]"
      ]
     },
     "execution_count": 8,
     "metadata": {},
     "output_type": "execute_result"
    },
    {
     "data": {
      "image/png": "[encoded data removed]",
      "text/plain": [
       "<Figure size 640x480 with 1 Axes>"
      ]
     },
     "metadata": {},
     "output_type": "display_data"
    }
   ],
   "source": [
    "# Gets the response function of the sqrt gadget\n",
    "X, Y = G_sqrt.get_response()\n",
    "plt.plot(X, Y)"
   ]
  },
  {
   "cell_type": "code",
   "execution_count": null,
   "id": "ac1bc53d-8392-4f70-8bb2-79f91e909bd6",
   "metadata": {},
   "outputs": [],
   "source": []
  }
 ],
 "metadata": {
  "kernelspec": {
   "display_name": "Python 3 (ipykernel)",
   "language": "python",
   "name": "python3"
  },
  "language_info": {
   "codemirror_mode": {
    "name": "ipython",
    "version": 3
   },
   "file_extension": ".py",
   "mimetype": "text/x-python",
   "name": "python",
   "nbconvert_exporter": "python",
   "pygments_lexer": "ipython3",
   "version": "3.8.10"
  }
 },
 "nbformat": 4,
 "nbformat_minor": 5
}
