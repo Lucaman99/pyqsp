{
 "cells": [
  {
   "cell_type": "code",
   "execution_count": 1,
   "id": "fd424351-9d9b-49e1-ae9b-356e9fa54dbe",
   "metadata": {},
   "outputs": [],
   "source": [
    "import pyqsp\n",
    "from pyqsp.LPoly import *\n",
    "from pyqsp.gadgets import *\n",
    "import jax\n",
    "import jax.numpy as jnp\n",
    "import numpy as np\n",
    "from tqdm.notebook import tqdm\n",
    "from scipy.interpolate import approximate_taylor_polynomial\n",
    "from matplotlib import pyplot as plt\n",
    "import copy\n",
    "\n",
    "np.set_printoptions(linewidth=100000)"
   ]
  },
  {
   "cell_type": "code",
   "execution_count": 2,
   "id": "5164d484-3f54-40b9-86d2-2a6dd5535cdc",
   "metadata": {},
   "outputs": [],
   "source": [
    "Xi_1 = [np.array([0, -np.pi/3, np.pi/3, 0])]\n",
    "S_1 = [[0, 1, 0]]\n",
    "G = AtomicGadget(Xi_1, S_1, label=\"G\")\n",
    "\n",
    "Xi_2 = np.array([[0, np.pi/3, -np.pi/3, 0]])\n",
    "S_2 = [[1, 0, 1]]\n",
    "G_tilde = AtomicGadget(Xi_2, S_2, label=\"G_tilde\")"
   ]
  },
  {
   "cell_type": "code",
   "execution_count": 3,
   "id": "eb0a32e8-cad2-489e-b0cd-5f4d140c209e",
   "metadata": {},
   "outputs": [
    {
     "data": {
      "text/plain": [
       "array([[ 0.001    +1.38777878e-17j, -0.8616844-5.07443593e-01j],\n",
       "       [ 0.8616844-5.07443593e-01j,  0.001    -1.38777878e-17j]])"
      ]
     },
     "execution_count": 3,
     "metadata": {},
     "output_type": "execute_result"
    }
   ],
   "source": [
    "G.get_qsp_unitary(('G', 0))({('G', 0):0.1, ('G', 1):0.1})"
   ]
  },
  {
   "cell_type": "code",
   "execution_count": 12,
   "id": "28e5dc3b-06d2-486f-a49f-6616d220a69f",
   "metadata": {},
   "outputs": [],
   "source": [
    "# Performs an interlink of the G gadget with the extraction gadget. Note that deg is the \n",
    "# degree of the polynomial used in the correction. If it were instead \"None\" no correction\n",
    "# would be applied\n",
    "deg = 29\n",
    "\n",
    "G_interlink = G.interlink(G_tilde, [\n",
    "    (('G', 0), ('G_tilde', 0), deg)\n",
    "])"
   ]
  },
  {
   "cell_type": "code",
   "execution_count": 15,
   "id": "f5f28e7a-ae2c-43dc-abd4-090fc03010a8",
   "metadata": {},
   "outputs": [
    {
     "data": {
      "text/plain": [
       "[<pyqsp.gadgets.iX_Gate at 0x7fd4d3ec4c70>,\n",
       " <pyqsp.gadgets.QSP_Rotation at 0x7fd4e6045130>,\n",
       " <pyqsp.gadgets.QSP_Rotation at 0x7fd4d3ec6250>,\n",
       " <pyqsp.gadgets.QSP_Signal at 0x7fd4d3ec4c10>,\n",
       " <pyqsp.gadgets.QSP_Rotation at 0x7fd4d3ec4af0>,\n",
       " <pyqsp.gadgets.QSP_Signal at 0x7fd4d3ec4a60>,\n",
       " <pyqsp.gadgets.QSP_Rotation at 0x7fd4d3ec49d0>,\n",
       " <pyqsp.gadgets.QSP_Signal at 0x7fd4d3ec4a30>,\n",
       " <pyqsp.gadgets.QSP_Rotation at 0x7fd4d3ec4be0>,\n",
       " <pyqsp.gadgets.QSP_Rotation at 0x7fd4d3d0de50>,\n",
       " <pyqsp.gadgets.QSP_Rotation at 0x7fd4d3ec6250>,\n",
       " <pyqsp.gadgets.QSP_Signal at 0x7fd4d3ec4c10>,\n",
       " <pyqsp.gadgets.QSP_Rotation at 0x7fd4d3ec4af0>,\n",
       " <pyqsp.gadgets.QSP_Signal at 0x7fd4d3ec4a60>,\n",
       " <pyqsp.gadgets.QSP_Rotation at 0x7fd4d3ec49d0>,\n",
       " <pyqsp.gadgets.QSP_Signal at 0x7fd4d3ec4a30>,\n",
       " <pyqsp.gadgets.QSP_Rotation at 0x7fd4d3ec4be0>,\n",
       " <pyqsp.gadgets.QSP_Rotation at 0x7fd4d3ec6dc0>,\n",
       " <pyqsp.gadgets.QSP_Rotation at 0x7fd4d3ec6250>,\n",
       " <pyqsp.gadgets.QSP_Signal at 0x7fd4d3ec4c10>,\n",
       " <pyqsp.gadgets.QSP_Rotation at 0x7fd4d3ec4af0>,\n",
       " <pyqsp.gadgets.QSP_Signal at 0x7fd4d3ec4a60>,\n",
       " <pyqsp.gadgets.QSP_Rotation at 0x7fd4d3ec49d0>,\n",
       " <pyqsp.gadgets.QSP_Signal at 0x7fd4d3ec4a30>,\n",
       " <pyqsp.gadgets.QSP_Rotation at 0x7fd4d3ec4be0>,\n",
       " <pyqsp.gadgets.QSP_Rotation at 0x7fd4d3d0dfa0>,\n",
       " <pyqsp.gadgets.QSP_Rotation at 0x7fd4d3ec6250>,\n",
       " <pyqsp.gadgets.QSP_Signal at 0x7fd4d3ec4c10>,\n",
       " <pyqsp.gadgets.QSP_Rotation at 0x7fd4d3ec4af0>,\n",
       " <pyqsp.gadgets.QSP_Signal at 0x7fd4d3ec4a60>,\n",
       " <pyqsp.gadgets.QSP_Rotation at 0x7fd4d3ec49d0>,\n",
       " <pyqsp.gadgets.QSP_Signal at 0x7fd4d3ec4a30>,\n",
       " <pyqsp.gadgets.QSP_Rotation at 0x7fd4d3ec4be0>,\n",
       " <pyqsp.gadgets.QSP_Rotation at 0x7fd4d3ec4d30>,\n",
       " <pyqsp.gadgets.QSP_Rotation at 0x7fd4d3ec6250>,\n",
       " <pyqsp.gadgets.QSP_Signal at 0x7fd4d3ec4c10>,\n",
       " <pyqsp.gadgets.QSP_Rotation at 0x7fd4d3ec4af0>,\n",
       " <pyqsp.gadgets.QSP_Signal at 0x7fd4d3ec4a60>,\n",
       " <pyqsp.gadgets.QSP_Rotation at 0x7fd4d3ec49d0>,\n",
       " <pyqsp.gadgets.QSP_Signal at 0x7fd4d3ec4a30>,\n",
       " <pyqsp.gadgets.QSP_Rotation at 0x7fd4d3ec4be0>,\n",
       " <pyqsp.gadgets.QSP_Rotation at 0x7fd4d3ec4880>,\n",
       " <pyqsp.gadgets.QSP_Rotation at 0x7fd4d3ec6250>,\n",
       " <pyqsp.gadgets.QSP_Signal at 0x7fd4d3ec4c10>,\n",
       " <pyqsp.gadgets.QSP_Rotation at 0x7fd4d3ec4af0>,\n",
       " <pyqsp.gadgets.QSP_Signal at 0x7fd4d3ec4a60>,\n",
       " <pyqsp.gadgets.QSP_Rotation at 0x7fd4d3ec49d0>,\n",
       " <pyqsp.gadgets.QSP_Signal at 0x7fd4d3ec4a30>,\n",
       " <pyqsp.gadgets.QSP_Rotation at 0x7fd4d3ec4be0>,\n",
       " <pyqsp.gadgets.QSP_Rotation at 0x7fd4d3ec46d0>,\n",
       " <pyqsp.gadgets.QSP_Rotation at 0x7fd4d3ec6250>,\n",
       " <pyqsp.gadgets.QSP_Signal at 0x7fd4d3ec4c10>,\n",
       " <pyqsp.gadgets.QSP_Rotation at 0x7fd4d3ec4af0>,\n",
       " <pyqsp.gadgets.QSP_Signal at 0x7fd4d3ec4a60>,\n",
       " <pyqsp.gadgets.QSP_Rotation at 0x7fd4d3ec49d0>,\n",
       " <pyqsp.gadgets.QSP_Signal at 0x7fd4d3ec4a30>,\n",
       " <pyqsp.gadgets.QSP_Rotation at 0x7fd4d3ec4be0>,\n",
       " <pyqsp.gadgets.QSP_Rotation at 0x7fd4d3ec4760>,\n",
       " <pyqsp.gadgets.QSP_Rotation at 0x7fd4d3ec6250>,\n",
       " <pyqsp.gadgets.QSP_Signal at 0x7fd4d3ec4c10>,\n",
       " <pyqsp.gadgets.QSP_Rotation at 0x7fd4d3ec4af0>,\n",
       " <pyqsp.gadgets.QSP_Signal at 0x7fd4d3ec4a60>,\n",
       " <pyqsp.gadgets.QSP_Rotation at 0x7fd4d3ec49d0>,\n",
       " <pyqsp.gadgets.QSP_Signal at 0x7fd4d3ec4a30>,\n",
       " <pyqsp.gadgets.QSP_Rotation at 0x7fd4d3ec4be0>,\n",
       " <pyqsp.gadgets.QSP_Rotation at 0x7fd4d3ec4520>,\n",
       " <pyqsp.gadgets.QSP_Rotation at 0x7fd4d3ec6250>,\n",
       " <pyqsp.gadgets.QSP_Signal at 0x7fd4d3ec4c10>,\n",
       " <pyqsp.gadgets.QSP_Rotation at 0x7fd4d3ec4af0>,\n",
       " <pyqsp.gadgets.QSP_Signal at 0x7fd4d3ec4a60>,\n",
       " <pyqsp.gadgets.QSP_Rotation at 0x7fd4d3ec49d0>,\n",
       " <pyqsp.gadgets.QSP_Signal at 0x7fd4d3ec4a30>,\n",
       " <pyqsp.gadgets.QSP_Rotation at 0x7fd4d3ec4be0>,\n",
       " <pyqsp.gadgets.QSP_Rotation at 0x7fd4d3ec45b0>,\n",
       " <pyqsp.gadgets.QSP_Rotation at 0x7fd4d3ec6250>,\n",
       " <pyqsp.gadgets.QSP_Signal at 0x7fd4d3ec4c10>,\n",
       " <pyqsp.gadgets.QSP_Rotation at 0x7fd4d3ec4af0>,\n",
       " <pyqsp.gadgets.QSP_Signal at 0x7fd4d3ec4a60>,\n",
       " <pyqsp.gadgets.QSP_Rotation at 0x7fd4d3ec49d0>,\n",
       " <pyqsp.gadgets.QSP_Signal at 0x7fd4d3ec4a30>,\n",
       " <pyqsp.gadgets.QSP_Rotation at 0x7fd4d3ec4be0>,\n",
       " <pyqsp.gadgets.QSP_Rotation at 0x7fd4d3ec43a0>,\n",
       " <pyqsp.gadgets.QSP_Rotation at 0x7fd4d3ec6250>,\n",
       " <pyqsp.gadgets.QSP_Signal at 0x7fd4d3ec4c10>,\n",
       " <pyqsp.gadgets.QSP_Rotation at 0x7fd4d3ec4af0>,\n",
       " <pyqsp.gadgets.QSP_Signal at 0x7fd4d3ec4a60>,\n",
       " <pyqsp.gadgets.QSP_Rotation at 0x7fd4d3ec49d0>,\n",
       " <pyqsp.gadgets.QSP_Signal at 0x7fd4d3ec4a30>,\n",
       " <pyqsp.gadgets.QSP_Rotation at 0x7fd4d3ec4be0>,\n",
       " <pyqsp.gadgets.QSP_Rotation at 0x7fd4d3ec40d0>,\n",
       " <pyqsp.gadgets.QSP_Rotation at 0x7fd4d3ec6250>,\n",
       " <pyqsp.gadgets.QSP_Signal at 0x7fd4d3ec4c10>,\n",
       " <pyqsp.gadgets.QSP_Rotation at 0x7fd4d3ec4af0>,\n",
       " <pyqsp.gadgets.QSP_Signal at 0x7fd4d3ec4a60>,\n",
       " <pyqsp.gadgets.QSP_Rotation at 0x7fd4d3ec49d0>,\n",
       " <pyqsp.gadgets.QSP_Signal at 0x7fd4d3ec4a30>,\n",
       " <pyqsp.gadgets.QSP_Rotation at 0x7fd4d3ec4be0>,\n",
       " <pyqsp.gadgets.QSP_Rotation at 0x7fd4d3ec41c0>,\n",
       " <pyqsp.gadgets.QSP_Rotation at 0x7fd4d3ec6250>,\n",
       " <pyqsp.gadgets.QSP_Signal at 0x7fd4d3ec4c10>,\n",
       " <pyqsp.gadgets.QSP_Rotation at 0x7fd4d3ec4af0>,\n",
       " <pyqsp.gadgets.QSP_Signal at 0x7fd4d3ec4a60>,\n",
       " <pyqsp.gadgets.QSP_Rotation at 0x7fd4d3ec49d0>,\n",
       " <pyqsp.gadgets.QSP_Signal at 0x7fd4d3ec4a30>,\n",
       " <pyqsp.gadgets.QSP_Rotation at 0x7fd4d3ec4be0>,\n",
       " <pyqsp.gadgets.QSP_Rotation at 0x7fd4d3ec3fd0>,\n",
       " <pyqsp.gadgets.QSP_Rotation at 0x7fd4d3ec6250>,\n",
       " <pyqsp.gadgets.QSP_Signal at 0x7fd4d3ec4c10>,\n",
       " <pyqsp.gadgets.QSP_Rotation at 0x7fd4d3ec4af0>,\n",
       " <pyqsp.gadgets.QSP_Signal at 0x7fd4d3ec4a60>,\n",
       " <pyqsp.gadgets.QSP_Rotation at 0x7fd4d3ec49d0>,\n",
       " <pyqsp.gadgets.QSP_Signal at 0x7fd4d3ec4a30>,\n",
       " <pyqsp.gadgets.QSP_Rotation at 0x7fd4d3ec4be0>,\n",
       " <pyqsp.gadgets.QSP_Rotation at 0x7fd4d3ec3d00>,\n",
       " <pyqsp.gadgets.QSP_Rotation at 0x7fd4d3ec6250>,\n",
       " <pyqsp.gadgets.QSP_Signal at 0x7fd4d3ec4c10>,\n",
       " <pyqsp.gadgets.QSP_Rotation at 0x7fd4d3ec4af0>,\n",
       " <pyqsp.gadgets.QSP_Signal at 0x7fd4d3ec4a60>,\n",
       " <pyqsp.gadgets.QSP_Rotation at 0x7fd4d3ec49d0>,\n",
       " <pyqsp.gadgets.QSP_Signal at 0x7fd4d3ec4a30>,\n",
       " <pyqsp.gadgets.QSP_Rotation at 0x7fd4d3ec4be0>,\n",
       " <pyqsp.gadgets.QSP_Rotation at 0x7fd4d3ec3f40>,\n",
       " <pyqsp.gadgets.QSP_Rotation at 0x7fd4d3ec6250>,\n",
       " <pyqsp.gadgets.QSP_Signal at 0x7fd4d3ec4c10>,\n",
       " <pyqsp.gadgets.QSP_Rotation at 0x7fd4d3ec4af0>,\n",
       " <pyqsp.gadgets.QSP_Signal at 0x7fd4d3ec4a60>,\n",
       " <pyqsp.gadgets.QSP_Rotation at 0x7fd4d3ec49d0>,\n",
       " <pyqsp.gadgets.QSP_Signal at 0x7fd4d3ec4a30>,\n",
       " <pyqsp.gadgets.QSP_Rotation at 0x7fd4d3ec4be0>,\n",
       " <pyqsp.gadgets.QSP_Rotation at 0x7fd4d3ec3c70>,\n",
       " <pyqsp.gadgets.QSP_Rotation at 0x7fd4d3ec6250>,\n",
       " <pyqsp.gadgets.QSP_Signal at 0x7fd4d3ec4c10>,\n",
       " <pyqsp.gadgets.QSP_Rotation at 0x7fd4d3ec4af0>,\n",
       " <pyqsp.gadgets.QSP_Signal at 0x7fd4d3ec4a60>,\n",
       " <pyqsp.gadgets.QSP_Rotation at 0x7fd4d3ec49d0>,\n",
       " <pyqsp.gadgets.QSP_Signal at 0x7fd4d3ec4a30>,\n",
       " <pyqsp.gadgets.QSP_Rotation at 0x7fd4d3ec4be0>,\n",
       " <pyqsp.gadgets.QSP_Rotation at 0x7fd4d3ec3be0>,\n",
       " <pyqsp.gadgets.QSP_Rotation at 0x7fd4d3ec6250>,\n",
       " <pyqsp.gadgets.QSP_Signal at 0x7fd4d3ec4c10>,\n",
       " <pyqsp.gadgets.QSP_Rotation at 0x7fd4d3ec4af0>,\n",
       " <pyqsp.gadgets.QSP_Signal at 0x7fd4d3ec4a60>,\n",
       " <pyqsp.gadgets.QSP_Rotation at 0x7fd4d3ec49d0>,\n",
       " <pyqsp.gadgets.QSP_Signal at 0x7fd4d3ec4a30>,\n",
       " <pyqsp.gadgets.QSP_Rotation at 0x7fd4d3ec4be0>,\n",
       " <pyqsp.gadgets.QSP_Rotation at 0x7fd4d3ec3b50>,\n",
       " <pyqsp.gadgets.QSP_Rotation at 0x7fd4d3ec6250>,\n",
       " <pyqsp.gadgets.QSP_Signal at 0x7fd4d3ec4c10>,\n",
       " <pyqsp.gadgets.QSP_Rotation at 0x7fd4d3ec4af0>,\n",
       " <pyqsp.gadgets.QSP_Signal at 0x7fd4d3ec4a60>,\n",
       " <pyqsp.gadgets.QSP_Rotation at 0x7fd4d3ec49d0>,\n",
       " <pyqsp.gadgets.QSP_Signal at 0x7fd4d3ec4a30>,\n",
       " <pyqsp.gadgets.QSP_Rotation at 0x7fd4d3ec4be0>,\n",
       " <pyqsp.gadgets.QSP_Rotation at 0x7fd4d3ec3940>,\n",
       " <pyqsp.gadgets.QSP_Rotation at 0x7fd4d3ec6250>,\n",
       " <pyqsp.gadgets.QSP_Signal at 0x7fd4d3ec4c10>,\n",
       " <pyqsp.gadgets.QSP_Rotation at 0x7fd4d3ec4af0>,\n",
       " <pyqsp.gadgets.QSP_Signal at 0x7fd4d3ec4a60>,\n",
       " <pyqsp.gadgets.QSP_Rotation at 0x7fd4d3ec49d0>,\n",
       " <pyqsp.gadgets.QSP_Signal at 0x7fd4d3ec4a30>,\n",
       " <pyqsp.gadgets.QSP_Rotation at 0x7fd4d3ec4be0>,\n",
       " <pyqsp.gadgets.QSP_Rotation at 0x7fd4d3ec3760>,\n",
       " <pyqsp.gadgets.QSP_Rotation at 0x7fd4d3ec6250>,\n",
       " <pyqsp.gadgets.QSP_Signal at 0x7fd4d3ec4c10>,\n",
       " <pyqsp.gadgets.QSP_Rotation at 0x7fd4d3ec4af0>,\n",
       " <pyqsp.gadgets.QSP_Signal at 0x7fd4d3ec4a60>,\n",
       " <pyqsp.gadgets.QSP_Rotation at 0x7fd4d3ec49d0>,\n",
       " <pyqsp.gadgets.QSP_Signal at 0x7fd4d3ec4a30>,\n",
       " <pyqsp.gadgets.QSP_Rotation at 0x7fd4d3ec4be0>,\n",
       " <pyqsp.gadgets.QSP_Rotation at 0x7fd4d3ec3640>,\n",
       " <pyqsp.gadgets.QSP_Rotation at 0x7fd4d3ec6250>,\n",
       " <pyqsp.gadgets.QSP_Signal at 0x7fd4d3ec4c10>,\n",
       " <pyqsp.gadgets.QSP_Rotation at 0x7fd4d3ec4af0>,\n",
       " <pyqsp.gadgets.QSP_Signal at 0x7fd4d3ec4a60>,\n",
       " <pyqsp.gadgets.QSP_Rotation at 0x7fd4d3ec49d0>,\n",
       " <pyqsp.gadgets.QSP_Signal at 0x7fd4d3ec4a30>,\n",
       " <pyqsp.gadgets.QSP_Rotation at 0x7fd4d3ec4be0>,\n",
       " <pyqsp.gadgets.QSP_Rotation at 0x7fd4d3ec3520>,\n",
       " <pyqsp.gadgets.QSP_Rotation at 0x7fd4d3ec6250>,\n",
       " <pyqsp.gadgets.QSP_Signal at 0x7fd4d3ec4c10>,\n",
       " <pyqsp.gadgets.QSP_Rotation at 0x7fd4d3ec4af0>,\n",
       " <pyqsp.gadgets.QSP_Signal at 0x7fd4d3ec4a60>,\n",
       " <pyqsp.gadgets.QSP_Rotation at 0x7fd4d3ec49d0>,\n",
       " <pyqsp.gadgets.QSP_Signal at 0x7fd4d3ec4a30>,\n",
       " <pyqsp.gadgets.QSP_Rotation at 0x7fd4d3ec4be0>,\n",
       " <pyqsp.gadgets.QSP_Rotation at 0x7fd4d3ec3400>,\n",
       " <pyqsp.gadgets.QSP_Rotation at 0x7fd4d3ec6250>,\n",
       " <pyqsp.gadgets.QSP_Signal at 0x7fd4d3ec4c10>,\n",
       " <pyqsp.gadgets.QSP_Rotation at 0x7fd4d3ec4af0>,\n",
       " <pyqsp.gadgets.QSP_Signal at 0x7fd4d3ec4a60>,\n",
       " <pyqsp.gadgets.QSP_Rotation at 0x7fd4d3ec49d0>,\n",
       " <pyqsp.gadgets.QSP_Signal at 0x7fd4d3ec4a30>,\n",
       " <pyqsp.gadgets.QSP_Rotation at 0x7fd4d3ec4be0>,\n",
       " <pyqsp.gadgets.QSP_Rotation at 0x7fd4d3ec32e0>,\n",
       " <pyqsp.gadgets.QSP_Rotation at 0x7fd4d3ec6250>,\n",
       " <pyqsp.gadgets.QSP_Signal at 0x7fd4d3ec4c10>,\n",
       " <pyqsp.gadgets.QSP_Rotation at 0x7fd4d3ec4af0>,\n",
       " <pyqsp.gadgets.QSP_Signal at 0x7fd4d3ec4a60>,\n",
       " <pyqsp.gadgets.QSP_Rotation at 0x7fd4d3ec49d0>,\n",
       " <pyqsp.gadgets.QSP_Signal at 0x7fd4d3ec4a30>,\n",
       " <pyqsp.gadgets.QSP_Rotation at 0x7fd4d3ec4be0>,\n",
       " <pyqsp.gadgets.QSP_Rotation at 0x7fd4d3ec31c0>,\n",
       " <pyqsp.gadgets.QSP_Rotation at 0x7fd4d3ec6250>,\n",
       " <pyqsp.gadgets.QSP_Signal at 0x7fd4d3ec4c10>,\n",
       " <pyqsp.gadgets.QSP_Rotation at 0x7fd4d3ec4af0>,\n",
       " <pyqsp.gadgets.QSP_Signal at 0x7fd4d3ec4a60>,\n",
       " <pyqsp.gadgets.QSP_Rotation at 0x7fd4d3ec49d0>,\n",
       " <pyqsp.gadgets.QSP_Signal at 0x7fd4d3ec4a30>,\n",
       " <pyqsp.gadgets.QSP_Rotation at 0x7fd4d3ec4be0>,\n",
       " <pyqsp.gadgets.QSP_Rotation at 0x7fd4d3ec30a0>,\n",
       " <pyqsp.gadgets.QSP_Rotation at 0x7fd4d3ec6250>,\n",
       " <pyqsp.gadgets.QSP_Signal at 0x7fd4d3ec4c10>,\n",
       " <pyqsp.gadgets.QSP_Rotation at 0x7fd4d3ec4af0>,\n",
       " <pyqsp.gadgets.QSP_Signal at 0x7fd4d3ec4a60>,\n",
       " <pyqsp.gadgets.QSP_Rotation at 0x7fd4d3ec49d0>,\n",
       " <pyqsp.gadgets.QSP_Signal at 0x7fd4d3ec4a30>,\n",
       " <pyqsp.gadgets.QSP_Rotation at 0x7fd4d3ec4be0>,\n",
       " <pyqsp.gadgets.QSP_Rotation at 0x7fd4d3ec1f40>,\n",
       " <pyqsp.gadgets.QSP_Rotation at 0x7fd4d3ec6250>,\n",
       " <pyqsp.gadgets.QSP_Signal at 0x7fd4d3ec4c10>,\n",
       " <pyqsp.gadgets.QSP_Rotation at 0x7fd4d3ec4af0>,\n",
       " <pyqsp.gadgets.QSP_Signal at 0x7fd4d3ec4a60>,\n",
       " <pyqsp.gadgets.QSP_Rotation at 0x7fd4d3ec49d0>,\n",
       " <pyqsp.gadgets.QSP_Signal at 0x7fd4d3ec4a30>,\n",
       " <pyqsp.gadgets.QSP_Rotation at 0x7fd4d3ec4be0>,\n",
       " <pyqsp.gadgets.QSP_Rotation at 0x7fd4d3ec1e20>,\n",
       " <pyqsp.gadgets.QSP_Rotation at 0x7fd4d3ec6250>,\n",
       " <pyqsp.gadgets.QSP_Signal at 0x7fd4d3ec4c10>,\n",
       " <pyqsp.gadgets.QSP_Rotation at 0x7fd4d3ec4af0>,\n",
       " <pyqsp.gadgets.QSP_Signal at 0x7fd4d3ec4a60>,\n",
       " <pyqsp.gadgets.QSP_Rotation at 0x7fd4d3ec49d0>,\n",
       " <pyqsp.gadgets.QSP_Signal at 0x7fd4d3ec4a30>,\n",
       " <pyqsp.gadgets.QSP_Rotation at 0x7fd4d3ec4be0>,\n",
       " <pyqsp.gadgets.QSP_Rotation at 0x7fd4d3ec1d00>]"
      ]
     },
     "execution_count": 15,
     "metadata": {},
     "output_type": "execute_result"
    }
   ],
   "source": [
    "G_interlink.get_sequence(('G_tilde', 0))[3].matrix({"
   ]
  },
  {
   "cell_type": "code",
   "execution_count": 5,
   "id": "e8058572-093d-4962-8740-3822c904b602",
   "metadata": {},
   "outputs": [],
   "source": [
    "# Sets gadget leg inputs\n",
    "F = lambda x : {(\"G\", 0): x, (\"G\", 1): 0.5, (\"G_tilde\", 1): 0.5}"
   ]
  },
  {
   "cell_type": "code",
   "execution_count": 6,
   "id": "4b76824d-42df-4ddd-a37c-e27327bf7d29",
   "metadata": {},
   "outputs": [],
   "source": [
    "# Gets the sequence of a leg of the gadget interlink\n",
    "fn = lambda x : G_interlink.get_qsp_unitary(('G_tilde', 0))(F(x))[0][0]"
   ]
  },
  {
   "cell_type": "code",
   "execution_count": 7,
   "id": "8fec3612-b802-4579-901f-873a304d4d63",
   "metadata": {},
   "outputs": [
    {
     "data": {
      "application/vnd.jupyter.widget-view+json": {
       "model_id": "1aad57b7d6a5466c9fdc96f8b4bd220e",
       "version_major": 2,
       "version_minor": 0
      },
      "text/plain": [
       "  0%|          | 0/200 [00:00<?, ?it/s]"
      ]
     },
     "metadata": {},
     "output_type": "display_data"
    }
   ],
   "source": [
    "# Plots the gadget interlink\n",
    "data = [fn(x) for x in tqdm(np.linspace(-1, 1, 200))]"
   ]
  },
  {
   "cell_type": "code",
   "execution_count": 8,
   "id": "95764293-820c-4370-8d89-8bae70888cb7",
   "metadata": {},
   "outputs": [
    {
     "data": {
      "text/plain": [
       "[<matplotlib.lines.Line2D at 0x7fd4d3a7a8e0>]"
      ]
     },
     "execution_count": 8,
     "metadata": {},
     "output_type": "execute_result"
    },
    {
     "data": {
      "image/png": "[encoded data removed]",
      "text/plain": [
       "<Figure size 640x480 with 1 Axes>"
      ]
     },
     "metadata": {},
     "output_type": "display_data"
    }
   ],
   "source": [
    "plt.plot(np.linspace(-1, 1, 200), np.real(data))\n",
    "plt.plot(np.linspace(-1, 1, 200), np.imag(data))"
   ]
  },
  {
   "cell_type": "code",
   "execution_count": 9,
   "id": "8e2f13a9-ec84-407d-bb48-69ad357fb401",
   "metadata": {},
   "outputs": [],
   "source": [
    "f = lambda x, y : G.get_qsp_unitary(('G', 0))({('G', 0) : x, ('G', 1) : y})[0][0]\n",
    "g = lambda x, y : G_tilde.get_qsp_unitary(('G_tilde', 0))({('G_tilde', 0) : x, ('G_tilde', 1) : y})[0][0]"
   ]
  },
  {
   "cell_type": "code",
   "execution_count": 10,
   "id": "c716b79c-0b74-42b7-aaed-5af5d91a5cdb",
   "metadata": {},
   "outputs": [],
   "source": [
    "h = lambda x : g(f(x, 0.5), 0.5)"
   ]
  },
  {
   "cell_type": "code",
   "execution_count": 11,
   "id": "62629303-cef8-43f6-8674-8a5b39c9903b",
   "metadata": {},
   "outputs": [
    {
     "data": {
      "text/plain": [
       "[<matplotlib.lines.Line2D at 0x7fd4d3d5d310>]"
      ]
     },
     "execution_count": 11,
     "metadata": {},
     "output_type": "execute_result"
    },
    {
     "data": {
      "image/png": "[encoded data removed]",
      "text/plain": [
       "<Figure size 640x480 with 1 Axes>"
      ]
     },
     "metadata": {},
     "output_type": "display_data"
    }
   ],
   "source": [
    "plt.plot(np.linspace(-1, 1, 200), [np.real(h(x)) for x in np.linspace(-1, 1, 200)])\n",
    "plt.plot(np.linspace(-1, 1, 200), [np.imag(h(x)) for x in np.linspace(-1, 1, 200)])"
   ]
  },
  {
   "cell_type": "code",
   "execution_count": null,
   "id": "b0d85d39-aa9d-4874-9eeb-d6a85e4d3145",
   "metadata": {},
   "outputs": [],
   "source": []
  }
 ],
 "metadata": {
  "kernelspec": {
   "display_name": "Python 3 (ipykernel)",
   "language": "python",
   "name": "python3"
  },
  "language_info": {
   "codemirror_mode": {
    "name": "ipython",
    "version": 3
   },
   "file_extension": ".py",
   "mimetype": "text/x-python",
   "name": "python",
   "nbconvert_exporter": "python",
   "pygments_lexer": "ipython3",
   "version": "3.8.10"
  }
 },
 "nbformat": 4,
 "nbformat_minor": 5
}
