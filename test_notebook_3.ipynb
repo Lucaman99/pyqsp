{
 "cells": [
  {
   "cell_type": "code",
   "execution_count": 1,
   "id": "fd424351-9d9b-49e1-ae9b-356e9fa54dbe",
   "metadata": {},
   "outputs": [],
   "source": [
    "import pyqsp\n",
    "from pyqsp.LPoly import *\n",
    "from pyqsp.gadgets import *\n",
    "import jax\n",
    "import jax.numpy as jnp\n",
    "import numpy as np\n",
    "from tqdm.notebook import tqdm\n",
    "from scipy.interpolate import approximate_taylor_polynomial\n",
    "from matplotlib import pyplot as plt\n",
    "import copy\n",
    "\n",
    "np.set_printoptions(linewidth=100000)"
   ]
  },
  {
   "cell_type": "code",
   "execution_count": 2,
   "id": "5164d484-3f54-40b9-86d2-2a6dd5535cdc",
   "metadata": {},
   "outputs": [],
   "source": [
    "Xi_1 = [np.array([0, np.pi/3, -np.pi/3, 0])]\n",
    "S_1 = [[0, 1, 0]]\n",
    "G = AtomicGadget(Xi_1, S_1, label=\"G\")\n",
    "\n",
    "Xi_2 = np.array([[np.pi/5, np.pi/6, -np.pi/6, -np.pi/5]])\n",
    "S_2 = [[1, 0, 1]]\n",
    "G_tilde = AtomicGadget(Xi_2, S_2, label=\"G_tilde\")"
   ]
  },
  {
   "cell_type": "code",
   "execution_count": 3,
   "id": "28e5dc3b-06d2-486f-a49f-6616d220a69f",
   "metadata": {},
   "outputs": [],
   "source": [
    "# Performs an interlink of the G gadget with the extraction gadget. Note that deg is the \n",
    "# degree of the polynomial used in the correction. If it were instead \"None\" no correction\n",
    "# would be applied\n",
    "deg = 20\n",
    "\n",
    "G_interlink = G.interlink(G_tilde, [\n",
    "    (('G', 0), ('G_tilde', 0), deg)\n",
    "])"
   ]
  },
  {
   "cell_type": "code",
   "execution_count": 4,
   "id": "e8058572-093d-4962-8740-3822c904b602",
   "metadata": {},
   "outputs": [],
   "source": [
    "# Sets gadget leg inputs\n",
    "F = lambda x, y : {(\"G\", 0): x, (\"G\", 1): y, (\"G_tilde\", 1): 0.5}"
   ]
  },
  {
   "cell_type": "code",
   "execution_count": 5,
   "id": "4b76824d-42df-4ddd-a37c-e27327bf7d29",
   "metadata": {},
   "outputs": [],
   "source": [
    "# Gets the sequence of a leg of the gadget interlink\n",
    "fn = lambda x, y : G_interlink.get_qsp_unitary(('G_tilde', 0))(F(x, y))[0][0]"
   ]
  },
  {
   "cell_type": "code",
   "execution_count": 6,
   "id": "8fec3612-b802-4579-901f-873a304d4d63",
   "metadata": {},
   "outputs": [
    {
     "data": {
      "application/vnd.jupyter.widget-view+json": {
       "model_id": "2cb78b2a027e42a5a99d7f7146d7b8b8",
       "version_major": 2,
       "version_minor": 0
      },
      "text/plain": [
       "  0%|          | 0/20 [00:00<?, ?it/s]"
      ]
     },
     "metadata": {},
     "output_type": "display_data"
    }
   ],
   "source": [
    "# Plots the gadget interlink\n",
    "data = [[fn(x, y) for x in np.linspace(-1, 1, 20)] for y in tqdm(np.linspace(-1, 1, 20))]"
   ]
  },
  {
   "cell_type": "code",
   "execution_count": 7,
   "id": "95764293-820c-4370-8d89-8bae70888cb7",
   "metadata": {},
   "outputs": [
    {
     "data": {
      "text/plain": [
       "<matplotlib.colorbar.Colorbar at 0x7f9301946fd0>"
      ]
     },
     "execution_count": 7,
     "metadata": {},
     "output_type": "execute_result"
    },
    {
     "data": {
      "image/png": "[encoded data removed]",
      "text/plain": [
       "<Figure size 480x480 with 2 Axes>"
      ]
     },
     "metadata": {},
     "output_type": "display_data"
    }
   ],
   "source": [
    "plt.matshow(np.real(data))\n",
    "plt.colorbar()"
   ]
  }
 ],
 "metadata": {
  "kernelspec": {
   "display_name": "Python 3 (ipykernel)",
   "language": "python",
   "name": "python3"
  },
  "language_info": {
   "codemirror_mode": {
    "name": "ipython",
    "version": 3
   },
   "file_extension": ".py",
   "mimetype": "text/x-python",
   "name": "python",
   "nbconvert_exporter": "python",
   "pygments_lexer": "ipython3",
   "version": "3.9.13"
  }
 },
 "nbformat": 4,
 "nbformat_minor": 5
}
